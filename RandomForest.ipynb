{
  "nbformat": 4,
  "nbformat_minor": 0,
  "metadata": {
    "colab": {
      "name": "RandomForest.ipynb",
      "provenance": [],
      "toc_visible": true,
      "mount_file_id": "10OWAwkT1I35g3b7w7FqGNKjAbWJbyIaC",
      "authorship_tag": "ABX9TyNQ/t4xTf6MDD6ONFg82UMk",
      "include_colab_link": true
    },
    "kernelspec": {
      "name": "python3",
      "display_name": "Python 3"
    }
  },
  "cells": [
    {
      "cell_type": "markdown",
      "metadata": {
        "id": "view-in-github",
        "colab_type": "text"
      },
      "source": [
        "<a href=\"https://colab.research.google.com/github/nwithan8/OscarPredictor/blob/master/RandomForest.ipynb\" target=\"_parent\"><img src=\"https://colab.research.google.com/assets/colab-badge.svg\" alt=\"Open In Colab\"/></a>"
      ]
    },
    {
      "cell_type": "code",
      "metadata": {
        "id": "xY8DJAA8523f"
      },
      "source": [
        "from sklearn.ensemble import RandomForestClassifier\n",
        "classifier = RandomForestClassifier(n_estimators= 100, criterion = \"entropy\", random_state =0)\n",
        "from sklearn.model_selection import train_test_split"
      ],
      "execution_count": 12,
      "outputs": []
    },
    {
      "cell_type": "code",
      "metadata": {
        "id": "estN0z496D-B"
      },
      "source": [
        "directors = []\n",
        "mpaaRatings = []\n",
        "X = [] # This holds the movie data that the model will use to train.\n",
        "y = [] # This holds whether the movies won an oscar or not that the model will use to train.\n",
        "\n",
        "dummyData = pd.read_csv(\"oscarsDummyData.csv\", encoding = \"ISO-8859-1\")\n",
        "n = len(dummyData.index)\n",
        "\n",
        "for i in range(0, n):\n",
        "    movie = list(dummyData.iloc[i])\n",
        "    director = movie[7]\n",
        "    mpaaRating = movie[10]\n",
        "    \n",
        "    if not(director in directors):\n",
        "        directors.append(director)\n",
        "    movie[7] = directors.index(director) # replace director to its unique numerical value\n",
        "    \n",
        "    if not(mpaaRating in mpaaRatings):\n",
        "        mpaaRatings.append(mpaaRating)\n",
        "    movie[10] = mpaaRatings.index(mpaaRating) # replace mpaa rating to its unique numerical value\n",
        "    \n",
        "    X.append(movie[3:-1])\n",
        "    \n",
        "    if movie[1]:\n",
        "        y.append(1)\n",
        "    else:\n",
        "        y.append(0)\n",
        "\n",
        "# train_test_split takes the datasets, shuffles the datasets, and splits it into training and testing sets.\n",
        "X_train, X_test, y_train, y_test = train_test_split(X, y, test_size = 0.2, shuffle = True, stratify = y)\n"
      ],
      "execution_count": 17,
      "outputs": []
    },
    {
      "cell_type": "code",
      "metadata": {
        "id": "3se7IThMogqW",
        "outputId": "84f46505-ce09-4a33-d1f7-0bf8cb7e0528",
        "colab": {
          "base_uri": "https://localhost:8080/"
        }
      },
      "source": [
        "classifier = RandomForestClassifier(n_estimators= 100, criterion = \"entropy\", random_state =0)\n",
        "classifier.fit(X_train,y_train)"
      ],
      "execution_count": 18,
      "outputs": [
        {
          "output_type": "execute_result",
          "data": {
            "text/plain": [
              "RandomForestClassifier(bootstrap=True, ccp_alpha=0.0, class_weight=None,\n",
              "                       criterion='entropy', max_depth=None, max_features='auto',\n",
              "                       max_leaf_nodes=None, max_samples=None,\n",
              "                       min_impurity_decrease=0.0, min_impurity_split=None,\n",
              "                       min_samples_leaf=1, min_samples_split=2,\n",
              "                       min_weight_fraction_leaf=0.0, n_estimators=100,\n",
              "                       n_jobs=None, oob_score=False, random_state=0, verbose=0,\n",
              "                       warm_start=False)"
            ]
          },
          "metadata": {
            "tags": []
          },
          "execution_count": 18
        }
      ]
    },
    {
      "cell_type": "code",
      "metadata": {
        "id": "11yKEgfvpep_",
        "outputId": "aaf17114-7afb-4e5c-b600-6e4d005c16cd",
        "colab": {
          "base_uri": "https://localhost:8080/"
        }
      },
      "source": [
        "predictions = classifier.predict(X_test)\n",
        "pretty_list = \"\\n\".join(\"{}\\t\\t{}\".format(x, y) for x, y in zip(predictions, y_test))\n",
        "print(\"Predictions\\tActual\")\n",
        "print(pretty_list)"
      ],
      "execution_count": 19,
      "outputs": [
        {
          "output_type": "stream",
          "text": [
            "Predictions\tActual\n",
            "0\t\t0\n",
            "0\t\t0\n",
            "0\t\t0\n",
            "1\t\t1\n",
            "0\t\t1\n",
            "0\t\t0\n",
            "0\t\t0\n",
            "0\t\t0\n",
            "0\t\t0\n",
            "0\t\t0\n",
            "0\t\t0\n",
            "0\t\t0\n",
            "0\t\t0\n",
            "1\t\t1\n",
            "0\t\t0\n",
            "0\t\t0\n",
            "0\t\t0\n",
            "0\t\t0\n",
            "0\t\t0\n",
            "0\t\t0\n",
            "0\t\t0\n",
            "0\t\t0\n",
            "0\t\t1\n",
            "0\t\t0\n",
            "0\t\t0\n"
          ],
          "name": "stdout"
        }
      ]
    },
    {
      "cell_type": "code",
      "metadata": {
        "id": "3A_bbVSep-mB",
        "outputId": "bdf65d8f-48f7-479d-a8a3-879d0bba49be",
        "colab": {
          "base_uri": "https://localhost:8080/"
        }
      },
      "source": [
        "\n",
        "# This predict_proba function produces the probability of the movies winning an oscar.\n",
        "predictions = classifier.predict_proba(X_test)[:,1]\n",
        "pretty_list = \"\\n\".join(\"{:.2f}\\t{}\".format(x, y) for x, y in zip(predictions, y_test))\n",
        "print(\"% of 1 \\tActual\")\n",
        "print(pretty_list)"
      ],
      "execution_count": 20,
      "outputs": [
        {
          "output_type": "stream",
          "text": [
            "% of 1 \tActual\n",
            "0.02\t0\n",
            "0.03\t0\n",
            "0.01\t0\n",
            "0.94\t1\n",
            "0.46\t1\n",
            "0.00\t0\n",
            "0.01\t0\n",
            "0.00\t0\n",
            "0.00\t0\n",
            "0.00\t0\n",
            "0.01\t0\n",
            "0.03\t0\n",
            "0.00\t0\n",
            "0.87\t1\n",
            "0.01\t0\n",
            "0.00\t0\n",
            "0.01\t0\n",
            "0.01\t0\n",
            "0.04\t0\n",
            "0.03\t0\n",
            "0.00\t0\n",
            "0.04\t0\n",
            "0.14\t1\n",
            "0.06\t0\n",
            "0.04\t0\n"
          ],
          "name": "stdout"
        }
      ]
    },
    {
      "cell_type": "markdown",
      "metadata": {
        "id": "A9YOZqDu6P54"
      },
      "source": [
        "# New Section"
      ]
    }
  ]
}