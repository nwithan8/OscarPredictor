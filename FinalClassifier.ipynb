{
 "cells": [
  {
   "cell_type": "code",
   "execution_count": 2,
   "metadata": {},
   "outputs": [],
   "source": [
    "from sklearn.ensemble import RandomForestClassifier\n",
    "import pickle\n",
    "import pandas as pd\n",
    "import numpy as np\n",
    "import csv"
   ]
  },
  {
   "cell_type": "code",
   "execution_count": 19,
   "metadata": {},
   "outputs": [],
   "source": [
    "directors = []\n",
    "actors = []\n",
    "mpaaRatings = []\n",
    "X = [] # This holds the movie data that the model will use to train.\n",
    "y = [] # This holds whether the movies won an oscar or not that the model will use to train.\n",
    "\n",
    "data = pd.read_csv(\"../Data/oscars.csv\", encoding = \"ISO-8859-1\")\n",
    "n = len(data.index)\n",
    "\n",
    "for i in range(0, n):\n",
    "    movie = list(data.iloc[i])\n",
    "    year = movie[2]\n",
    "    director = movie[7]\n",
    "    actor1 = movie[11]\n",
    "    actor2 = movie[15]\n",
    "    actor3 = movie[19]\n",
    "    mpaaRating = movie[23]\n",
    "    \n",
    "    if not(director in directors):\n",
    "        directors.append(director)\n",
    "    movie[7] = directors.index(director) # replace director to its unique numerical value\n",
    "    movie[8] = int(movie[8])\n",
    "    \n",
    "    if not(actor1 in actors):\n",
    "        actors.append(actor1)\n",
    "    movie[11] = actors.index(actor1)\n",
    "    movie[12] = int(movie[12])\n",
    "    \n",
    "    if not(actor2 in actors):\n",
    "        actors.append(actor2)\n",
    "    movie[15] = actors.index(actor2)\n",
    "    movie[16] = int(movie[16])\n",
    "    \n",
    "    if not(actor3 in actors):\n",
    "        actors.append(actor3)\n",
    "    movie[19] = actors.index(actor3)\n",
    "    movie[20] = int(movie[20])\n",
    "    \n",
    "    if not(mpaaRating in mpaaRatings):\n",
    "        mpaaRatings.append(mpaaRating)\n",
    "    movie[23] = mpaaRatings.index(mpaaRating) # replace mpaa rating to its unique numerical value\n",
    "    \n",
    "    X.append(movie[3:])\n",
    "    y.append(int(movie[1]))\n",
    "        "
   ]
  },
  {
   "cell_type": "code",
   "execution_count": 11,
   "metadata": {},
   "outputs": [],
   "source": [
    "classifier = RandomForestClassifier(n_estimators=50, max_depth=5, criterion = \"entropy\", random_state=0, class_weight='balanced')\n",
    "classifier.fit(X,y)\n",
    "file = open(\"oscars_classifier.pkl\", 'wb')\n",
    "pickle.dump(classifier, file)\n",
    "file.close()"
   ]
  },
  {
   "cell_type": "code",
   "execution_count": 24,
   "metadata": {},
   "outputs": [],
   "source": [
    "resultFyle = open(\"output.csv\",'w')\n",
    "\n",
    "# Write data to file\n",
    "for r in mpaaRatings:\n",
    "    resultFyle.write(r + \",\")\n",
    "resultFyle.close()"
   ]
  },
  {
   "cell_type": "code",
   "execution_count": null,
   "metadata": {},
   "outputs": [],
   "source": []
  }
 ],
 "metadata": {
  "kernelspec": {
   "display_name": "Python 3",
   "language": "python",
   "name": "python3"
  },
  "language_info": {
   "codemirror_mode": {
    "name": "ipython",
    "version": 3
   },
   "file_extension": ".py",
   "mimetype": "text/x-python",
   "name": "python",
   "nbconvert_exporter": "python",
   "pygments_lexer": "ipython3",
   "version": "3.6.5"
  }
 },
 "nbformat": 4,
 "nbformat_minor": 2
}
