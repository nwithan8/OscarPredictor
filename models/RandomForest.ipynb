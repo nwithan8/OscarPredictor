{
  "nbformat": 4,
  "nbformat_minor": 0,
  "metadata": {
    "colab": {
      "name": "RandomForest.ipynb",
      "provenance": [],
      "collapsed_sections": [],
      "toc_visible": true
    },
    "kernelspec": {
      "name": "python3",
      "display_name": "Python 3"
    }
  },
  "cells": [
    {
      "cell_type": "code",
      "metadata": {
        "id": "xY8DJAA8523f"
      },
      "source": [
        "from sklearn.ensemble import RandomForestClassifier\n",
        "from sklearn.model_selection import train_test_split\n",
        "import pandas as pd"
      ],
      "execution_count": 38,
      "outputs": []
    },
    {
      "cell_type": "code",
      "metadata": {
        "id": "estN0z496D-B"
      },
      "source": [
        "directors = []\n",
        "mpaaRatings = []\n",
        "X = [] # This holds the movie data that the model will use to train.\n",
        "y = [] # This holds whether the movies won an oscar or not that the model will use to train.\n",
        "\n",
        "dummyData = pd.read_csv(\"oscarsDummyData.csv\", encoding = \"ISO-8859-1\")\n",
        "n = len(dummyData.index)\n",
        "\n",
        "for i in range(0, n):\n",
        "    movie = list(dummyData.iloc[i])\n",
        "    director = movie[7]\n",
        "    mpaaRating = movie[10]\n",
        "    \n",
        "    if not(director in directors):\n",
        "        directors.append(director)\n",
        "    movie[7] = directors.index(director) # replace director to its unique numerical value\n",
        "    \n",
        "    if not(mpaaRating in mpaaRatings):\n",
        "        mpaaRatings.append(mpaaRating)\n",
        "    movie[10] = mpaaRatings.index(mpaaRating) # replace mpaa rating to its unique numerical value\n",
        "    \n",
        "    X.append(movie[3:-1])\n",
        "    \n",
        "    if movie[1]:\n",
        "        y.append(1)\n",
        "    else:\n",
        "        y.append(0)\n",
        "\n",
        "# train_test_split takes the datasets, shuffles the datasets, and splits it into training and testing sets.\n",
        "X_train, X_test, y_train, y_test = train_test_split(X, y, test_size = 0.2, shuffle = True, stratify = y)\n"
      ],
      "execution_count": 48,
      "outputs": []
    },
    {
      "cell_type": "code",
      "metadata": {
        "id": "3se7IThMogqW",
        "outputId": "5b65e5f5-ba96-4260-9430-1e0233a58a87",
        "colab": {
          "base_uri": "https://localhost:8080/"
        }
      },
      "source": [
        "classifier = RandomForestClassifier(n_estimators= 100, criterion = \"entropy\", random_state =0)\n",
        "classifier.fit(X_train,y_train)"
      ],
      "execution_count": 49,
      "outputs": [
        {
          "output_type": "execute_result",
          "data": {
            "text/plain": [
              "RandomForestClassifier(bootstrap=True, ccp_alpha=0.0, class_weight=None,\n",
              "                       criterion='entropy', max_depth=None, max_features='auto',\n",
              "                       max_leaf_nodes=None, max_samples=None,\n",
              "                       min_impurity_decrease=0.0, min_impurity_split=None,\n",
              "                       min_samples_leaf=1, min_samples_split=2,\n",
              "                       min_weight_fraction_leaf=0.0, n_estimators=100,\n",
              "                       n_jobs=None, oob_score=False, random_state=0, verbose=0,\n",
              "                       warm_start=False)"
            ]
          },
          "metadata": {
            "tags": []
          },
          "execution_count": 49
        }
      ]
    },
    {
      "cell_type": "code",
      "metadata": {
        "id": "11yKEgfvpep_",
        "outputId": "3cbc1762-f1cb-4362-dbf9-6d149c734cb0",
        "colab": {
          "base_uri": "https://localhost:8080/"
        }
      },
      "source": [
        "predictions = classifier.predict(X_test)\n",
        "pretty_list = \"\\n\".join(\"{}\\t\\t{}\".format(x, y) for x, y in zip(predictions, y_test))\n",
        "print(\"Predictions\\tActual\")\n",
        "print(pretty_list)"
      ],
      "execution_count": 50,
      "outputs": [
        {
          "output_type": "stream",
          "text": [
            "Predictions\tActual\n",
            "0\t\t0\n",
            "0\t\t0\n",
            "0\t\t0\n",
            "0\t\t0\n",
            "0\t\t0\n",
            "0\t\t0\n",
            "0\t\t0\n",
            "1\t\t1\n",
            "0\t\t0\n",
            "0\t\t0\n",
            "0\t\t0\n",
            "0\t\t0\n",
            "0\t\t0\n",
            "1\t\t1\n",
            "0\t\t0\n",
            "0\t\t0\n",
            "0\t\t0\n",
            "1\t\t1\n",
            "0\t\t0\n",
            "0\t\t1\n",
            "0\t\t0\n",
            "0\t\t0\n",
            "0\t\t0\n",
            "0\t\t0\n",
            "0\t\t0\n"
          ],
          "name": "stdout"
        }
      ]
    },
    {
      "cell_type": "code",
      "metadata": {
        "id": "3A_bbVSep-mB",
        "outputId": "be969295-ff07-49d3-90be-6284bbfcf6c9",
        "colab": {
          "base_uri": "https://localhost:8080/"
        }
      },
      "source": [
        "\n",
        "# This predict_proba function produces the probability of the movies winning an oscar.\n",
        "predictions_percent = classifier.predict_proba(X_test)[:,1]\n",
        "pretty_list = \"\\n\".join(\"{:.2f}\\t{}\".format(x, y) for x, y in zip(predictions_percent, y_test))\n",
        "print(\"% of 1 \\tActual\")\n",
        "print(pretty_list)"
      ],
      "execution_count": 51,
      "outputs": [
        {
          "output_type": "stream",
          "text": [
            "% of 1 \tActual\n",
            "0.02\t0\n",
            "0.02\t0\n",
            "0.09\t0\n",
            "0.00\t0\n",
            "0.00\t0\n",
            "0.01\t0\n",
            "0.03\t0\n",
            "0.84\t1\n",
            "0.01\t0\n",
            "0.01\t0\n",
            "0.02\t0\n",
            "0.02\t0\n",
            "0.00\t0\n",
            "0.80\t1\n",
            "0.00\t0\n",
            "0.00\t0\n",
            "0.02\t0\n",
            "0.84\t1\n",
            "0.02\t0\n",
            "0.35\t1\n",
            "0.03\t0\n",
            "0.01\t0\n",
            "0.01\t0\n",
            "0.00\t0\n",
            "0.00\t0\n"
          ],
          "name": "stdout"
        }
      ]
    },
    {
      "cell_type": "code",
      "metadata": {
        "id": "kds4ac6jrNwU",
        "outputId": "34e2d6fa-4ad7-4e0d-8262-72c7eca96859",
        "colab": {
          "base_uri": "https://localhost:8080/"
        }
      },
      "source": [
        "from sklearn.metrics import confusion_matrix, accuracy_score\n",
        "cm=confusion_matrix(y_test, predictions)\n",
        "print(cm)\n",
        "accuracy_score(y_test,predictions)"
      ],
      "execution_count": 52,
      "outputs": [
        {
          "output_type": "stream",
          "text": [
            "[[21  0]\n",
            " [ 1  3]]\n"
          ],
          "name": "stdout"
        },
        {
          "output_type": "execute_result",
          "data": {
            "text/plain": [
              "0.96"
            ]
          },
          "metadata": {
            "tags": []
          },
          "execution_count": 52
        }
      ]
    },
    {
      "cell_type": "markdown",
      "metadata": {
        "id": "A9YOZqDu6P54"
      },
      "source": [
        "# New Section"
      ]
    }
  ]
}