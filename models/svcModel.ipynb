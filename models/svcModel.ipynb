{
 "cells": [
  {
   "cell_type": "code",
   "execution_count": 1,
   "metadata": {},
   "outputs": [],
   "source": [
    "from sklearn.svm import SVC\n",
    "import pandas as pd\n",
    "from sklearn.model_selection import train_test_split"
   ]
  },
  {
   "cell_type": "code",
   "execution_count": 2,
   "metadata": {},
   "outputs": [],
   "source": [
    "directors = []\n",
    "mpaaRatings = []\n",
    "X = [] # This holds the movie data that the model will use to train.\n",
    "y = [] # This holds whether the movies won an oscar or not that the model will use to train.\n",
    "\n",
    "dummyData = pd.read_csv(\"oscarsDummyData.csv\", encoding = \"ISO-8859-1\")\n",
    "n = len(dummyData.index)\n",
    "\n",
    "for i in range(0, n):\n",
    "    movie = list(dummyData.iloc[i])\n",
    "    director = movie[7]\n",
    "    mpaaRating = movie[10]\n",
    "    \n",
    "    if not(director in directors):\n",
    "        directors.append(director)\n",
    "    movie[7] = directors.index(director) # replace director to its unique numerical value\n",
    "    \n",
    "    if not(mpaaRating in mpaaRatings):\n",
    "        mpaaRatings.append(mpaaRating)\n",
    "    movie[10] = mpaaRatings.index(mpaaRating) # replace mpaa rating to its unique numerical value\n",
    "    \n",
    "    X.append(movie[3:-1])\n",
    "    \n",
    "    if movie[1]:\n",
    "        y.append(1)\n",
    "    else:\n",
    "        y.append(0)\n",
    "        \n",
    "# train_test_split takes the datasets, shuffles the datasets, and splits it into training and testing sets.\n",
    "X_train, X_test, y_train, y_test = train_test_split(X, y, test_size = 0.2, shuffle = True, stratify = y)"
   ]
  },
  {
   "cell_type": "code",
   "execution_count": 9,
   "metadata": {},
   "outputs": [
    {
     "data": {
      "text/plain": [
       "SVC(C=1.0, cache_size=200, class_weight=None, coef0=0.0,\n",
       "  decision_function_shape='ovr', degree=3, gamma='auto', kernel='rbf',\n",
       "  max_iter=-1, probability=True, random_state=None, shrinking=True,\n",
       "  tol=0.001, verbose=False)"
      ]
     },
     "execution_count": 9,
     "metadata": {},
     "output_type": "execute_result"
    }
   ],
   "source": [
    "svc = SVC(probability=True)\n",
    "svc.fit(X_train, y_train)"
   ]
  },
  {
   "cell_type": "code",
   "execution_count": 10,
   "metadata": {},
   "outputs": [
    {
     "name": "stdout",
     "output_type": "stream",
     "text": [
      "Predictions\tActual\n",
      "0\t\t0\n",
      "0\t\t0\n",
      "0\t\t0\n",
      "0\t\t0\n",
      "0\t\t0\n",
      "0\t\t0\n",
      "0\t\t0\n",
      "0\t\t0\n",
      "0\t\t0\n",
      "0\t\t0\n",
      "0\t\t0\n",
      "0\t\t0\n",
      "0\t\t0\n",
      "0\t\t0\n",
      "0\t\t0\n",
      "0\t\t0\n",
      "0\t\t0\n",
      "0\t\t1\n",
      "0\t\t0\n",
      "0\t\t0\n",
      "0\t\t1\n",
      "0\t\t1\n",
      "0\t\t0\n",
      "0\t\t0\n",
      "0\t\t1\n"
     ]
    }
   ],
   "source": [
    "# This predict function produces yes or no Oscar predictions.\n",
    "predictions = svc.predict(X_test)\n",
    "pretty_list = \"\\n\".join(\"{}\\t\\t{}\".format(x, y) for x, y in zip(predictions, y_test))\n",
    "print(\"Predictions\\tActual\")\n",
    "print(pretty_list)"
   ]
  },
  {
   "cell_type": "code",
   "execution_count": 11,
   "metadata": {},
   "outputs": [
    {
     "name": "stdout",
     "output_type": "stream",
     "text": [
      "% of 1 \tActual\n",
      "0.14\t0\n",
      "0.14\t0\n",
      "0.14\t0\n",
      "0.14\t0\n",
      "0.14\t0\n",
      "0.14\t0\n",
      "0.14\t0\n",
      "0.14\t0\n",
      "0.14\t0\n",
      "0.14\t0\n",
      "0.14\t0\n",
      "0.14\t0\n",
      "0.14\t0\n",
      "0.14\t0\n",
      "0.14\t0\n",
      "0.14\t0\n",
      "0.14\t0\n",
      "0.14\t1\n",
      "0.14\t0\n",
      "0.14\t0\n",
      "0.14\t1\n",
      "0.14\t1\n",
      "0.14\t0\n",
      "0.14\t0\n",
      "0.14\t1\n"
     ]
    }
   ],
   "source": [
    "# This predict_proba function produces the probability of the movies winning an oscar.\n",
    "predictions = svc.predict_proba(X_test)[:,1]\n",
    "pretty_list = \"\\n\".join(\"{:.2f}\\t{}\".format(x, y) for x, y in zip(predictions, y_test))\n",
    "print(\"% of 1 \\tActual\")\n",
    "print(pretty_list)"
   ]
  },
  {
   "cell_type": "code",
   "execution_count": null,
   "metadata": {},
   "outputs": [],
   "source": []
  }
 ],
 "metadata": {
  "kernelspec": {
   "display_name": "Python 3",
   "language": "python",
   "name": "python3"
  },
  "language_info": {
   "codemirror_mode": {
    "name": "ipython",
    "version": 3
   },
   "file_extension": ".py",
   "mimetype": "text/x-python",
   "name": "python",
   "nbconvert_exporter": "python",
   "pygments_lexer": "ipython3",
   "version": "3.6.5"
  }
 },
 "nbformat": 4,
 "nbformat_minor": 2
}
