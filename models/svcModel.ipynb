{
 "cells": [
  {
   "cell_type": "code",
   "execution_count": 23,
   "metadata": {},
   "outputs": [],
   "source": [
    "from sklearn.svm import SVC\n",
    "import pandas as pd"
   ]
  },
  {
   "cell_type": "code",
   "execution_count": 24,
   "metadata": {},
   "outputs": [],
   "source": [
    "# [drama=1 horror=2 comedy=3, cost]\n",
    "# X = [[1,100],[2,200],[1,300],[1,400],[3,500],[3,700]]\n",
    "# y = [0, 0, 0, 0, 1,1]\n",
    "\n",
    "directors = []\n",
    "mpaaRatings = []\n",
    "X = []\n",
    "y = []\n",
    "\n",
    "dummyData = pd.read_csv(\"oscarsDummyData.csv\", encoding = \"ISO-8859-1\")\n",
    "n = len(dummyData.index)\n",
    "\n",
    "for i in range(0, n):\n",
    "    movie = list(dummyData.iloc[i])\n",
    "    director = movie[7]\n",
    "    mpaaRating = movie[10]\n",
    "    \n",
    "    if not(director in directors):\n",
    "        directors.append(director)\n",
    "    movie[7] = directors.index(director) # replace director to its unique numerical value\n",
    "    \n",
    "    if not(mpaaRating in mpaaRatings):\n",
    "        mpaaRatings.append(mpaaRating)\n",
    "    movie[10] = mpaaRatings.index(mpaaRating) # replace mpaa rating to its unique numerical value\n",
    "    \n",
    "    X.append(movie[3:-1])\n",
    "    \n",
    "    if movie[1]:\n",
    "        y.append(1)\n",
    "    else:\n",
    "        y.append(0)"
   ]
  },
  {
   "cell_type": "code",
   "execution_count": 25,
   "metadata": {},
   "outputs": [
    {
     "data": {
      "text/plain": [
       "SVC(C=1.0, cache_size=200, class_weight=None, coef0=0.0,\n",
       "  decision_function_shape='ovr', degree=3, gamma='auto', kernel='rbf',\n",
       "  max_iter=-1, probability=False, random_state=None, shrinking=True,\n",
       "  tol=0.001, verbose=False)"
      ]
     },
     "execution_count": 25,
     "metadata": {},
     "output_type": "execute_result"
    }
   ],
   "source": [
    "svc = SVC(gamma='auto')\n",
    "svc.fit(X, y)"
   ]
  },
  {
   "cell_type": "code",
   "execution_count": 26,
   "metadata": {},
   "outputs": [
    {
     "name": "stdout",
     "output_type": "stream",
     "text": [
      "[0 1]\n"
     ]
    }
   ],
   "source": [
    "#test_X = [[1, 100],[2,400],[1,275],[3,150],[3,600], [3,500], [3,525]]\n",
    "test_X = [[121, 25000000, 152500343, 127500343, 0, 16, 10, 0, 62, 12, 2000, 40], [135, 60000000, 313542341, 253542341, 4, 29, 19, 0, 75, 12, 2001, 100]]\n",
    "print(svc.predict(test_X))"
   ]
  },
  {
   "cell_type": "code",
   "execution_count": null,
   "metadata": {},
   "outputs": [],
   "source": []
  }
 ],
 "metadata": {
  "kernelspec": {
   "display_name": "Python 3",
   "language": "python",
   "name": "python3"
  },
  "language_info": {
   "codemirror_mode": {
    "name": "ipython",
    "version": 3
   },
   "file_extension": ".py",
   "mimetype": "text/x-python",
   "name": "python",
   "nbconvert_exporter": "python",
   "pygments_lexer": "ipython3",
   "version": "3.6.5"
  }
 },
 "nbformat": 4,
 "nbformat_minor": 2
}
