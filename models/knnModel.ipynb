{
 "cells": [
  {
   "cell_type": "code",
   "execution_count": 21,
   "metadata": {},
   "outputs": [],
   "source": [
    "from sklearn.neighbors import KNeighborsClassifier\n",
    "import pandas as pd"
   ]
  },
  {
   "cell_type": "code",
   "execution_count": 22,
   "metadata": {},
   "outputs": [],
   "source": [
    "directors = []\n",
    "mpaaRatings = []\n",
    "X = []\n",
    "y = []\n",
    "\n",
    "dummyData = pd.read_csv(\"oscarsDummyData.csv\", encoding = \"ISO-8859-1\")\n",
    "n = len(dummyData.index)\n",
    "\n",
    "for i in range(0, n):\n",
    "    movie = list(dummyData.iloc[i])\n",
    "    director = movie[7]\n",
    "    mpaaRating = movie[10]\n",
    "    \n",
    "    if not(director in directors):\n",
    "        directors.append(director)\n",
    "    movie[7] = directors.index(director) # replace director to its unique numerical value\n",
    "    \n",
    "    if not(mpaaRating in mpaaRatings):\n",
    "        mpaaRatings.append(mpaaRating)\n",
    "    movie[10] = mpaaRatings.index(mpaaRating) # replace mpaa rating to its unique numerical value\n",
    "    \n",
    "    X.append(movie[3:-1])\n",
    "    \n",
    "    if movie[1]:\n",
    "        y.append(1)\n",
    "    else:\n",
    "        y.append(0)"
   ]
  },
  {
   "cell_type": "code",
   "execution_count": 23,
   "metadata": {},
   "outputs": [
    {
     "data": {
      "text/plain": [
       "KNeighborsClassifier(algorithm='auto', leaf_size=30, metric='minkowski',\n",
       "           metric_params=None, n_jobs=1, n_neighbors=3, p=2,\n",
       "           weights='uniform')"
      ]
     },
     "execution_count": 23,
     "metadata": {},
     "output_type": "execute_result"
    }
   ],
   "source": [
    "knn = KNeighborsClassifier(n_neighbors = 3)\n",
    "knn.fit(X,y)"
   ]
  },
  {
   "cell_type": "code",
   "execution_count": 24,
   "metadata": {},
   "outputs": [
    {
     "name": "stdout",
     "output_type": "stream",
     "text": [
      "[0 1]\n"
     ]
    }
   ],
   "source": [
    "test_X = [[121, 25000000, 152500343, 127500343, 0, 16, 10, 0, 62, 12, 2000, 40], [135, 60000000, 313542341, 253542341, 4, 29, 19, 0, 75, 12, 2001, 100]]\n",
    "\n",
    "print(knn.predict(test_X))"
   ]
  },
  {
   "cell_type": "code",
   "execution_count": 25,
   "metadata": {},
   "outputs": [
    {
     "name": "stdout",
     "output_type": "stream",
     "text": [
      "title                          Chocolat\n",
      "won                               False\n",
      "ceremonyYear                       2000\n",
      "runningTime                         121\n",
      "budget                         25000000\n",
      "revenue                       152500343\n",
      "gross                         127500343\n",
      "directorName            Lasse Hallstrm\n",
      "DirectorNomination                   16\n",
      "DirectorWins                         10\n",
      "MPAARating                        PG-13\n",
      "rottenTomatoesScore                  62\n",
      "USReleaseMonth                       12\n",
      "USReleaseYear                      2000\n",
      "Google Trend in 000s                 40\n",
      "Prediction Bet                    False\n",
      "Name: 0, dtype: object\n",
      "[121, 25000000, 152500343, 127500343, 'Lasse Hallstr\\x94m', 16, 10, 'PG-13', 62, 12, 2000, 40]\n",
      "124\n"
     ]
    }
   ],
   "source": [
    "dummyData = pd.read_csv(\"oscarsDummyData.csv\", encoding = \"ISO-8859-1\")\n",
    "print(dummyData.iloc[0])\n",
    "print(list(dummyData.iloc[0])[3:-1])\n",
    "print(len(dummyData.index))"
   ]
  },
  {
   "cell_type": "code",
   "execution_count": null,
   "metadata": {},
   "outputs": [],
   "source": []
  }
 ],
 "metadata": {
  "kernelspec": {
   "display_name": "Python 3",
   "language": "python",
   "name": "python3"
  },
  "language_info": {
   "codemirror_mode": {
    "name": "ipython",
    "version": 3
   },
   "file_extension": ".py",
   "mimetype": "text/x-python",
   "name": "python",
   "nbconvert_exporter": "python",
   "pygments_lexer": "ipython3",
   "version": "3.6.5"
  }
 },
 "nbformat": 4,
 "nbformat_minor": 2
}
