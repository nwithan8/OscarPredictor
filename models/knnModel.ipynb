{
 "cells": [
  {
   "cell_type": "code",
   "execution_count": 1,
   "metadata": {},
   "outputs": [],
   "source": [
    "from sklearn.neighbors import KNeighborsClassifier\n",
    "import pandas as pd\n",
    "from sklearn.model_selection import train_test_split\n",
    "import numpy as np\n",
    "from sklearn.metrics import confusion_matrix, accuracy_score, f1_score\n",
    "import csv"
   ]
  },
  {
   "cell_type": "code",
   "execution_count": 2,
   "metadata": {},
   "outputs": [],
   "source": [
    "directors = []\n",
    "actors = []\n",
    "mpaaRatings = []\n",
    "X = [] # This holds the movie data that the model will use to train.\n",
    "y = [] # This holds whether the movies won an oscar or not that the model will use to train.\n",
    "\n",
    "dummyData = pd.read_csv(\"../Data/oscars.csv\", encoding = \"ISO-8859-1\")\n",
    "n = len(dummyData.index)\n",
    "\n",
    "for i in range(0, n):\n",
    "    movie = list(dummyData.iloc[i])\n",
    "    director = movie[7]\n",
    "    actor1 = movie[11]\n",
    "    actor2 = movie[15]\n",
    "    actor3 = movie[19]\n",
    "    mpaaRating = movie[23]\n",
    "    \n",
    "    if not(director in directors):\n",
    "        directors.append(director)\n",
    "    movie[7] = directors.index(director) # replace director to its unique numerical value\n",
    "    movie[8] = int(movie[8])\n",
    "    \n",
    "    if not(actor1 in actors):\n",
    "        actors.append(actor1)\n",
    "    movie[11] = actors.index(actor1)\n",
    "    movie[12] = int(movie[12])\n",
    "    \n",
    "    if not(actor2 in actors):\n",
    "        actors.append(actor2)\n",
    "    movie[15] = actors.index(actor2)\n",
    "    movie[16] = int(movie[16])\n",
    "    \n",
    "    if not(actor3 in actors):\n",
    "        actors.append(actor3)\n",
    "    movie[19] = actors.index(actor3)\n",
    "    movie[20] = int(movie[20])\n",
    "    \n",
    "    if not(mpaaRating in mpaaRatings):\n",
    "        mpaaRatings.append(mpaaRating)\n",
    "    movie[23] = mpaaRatings.index(mpaaRating) # replace mpaa rating to its unique numerical value\n",
    "    \n",
    "    X.append(movie[3:])\n",
    "    y.append(int(movie[1]))"
   ]
  },
  {
   "cell_type": "code",
   "execution_count": 4,
   "metadata": {},
   "outputs": [
    {
     "name": "stderr",
     "output_type": "stream",
     "text": [
      "C:\\Users\\Raymond Vu\\Anaconda3\\lib\\site-packages\\sklearn\\metrics\\classification.py:1135: UndefinedMetricWarning: F-score is ill-defined and being set to 0.0 in labels with no predicted samples.\n",
      "  'precision', 'predicted', average, warn_for)\n"
     ]
    }
   ],
   "source": [
    "data = []\n",
    "data.append([\"Neighbors\", \"Round 1\", \"Round 2\", \"Round 3\", \"Round 4\", \"Round 5\", \"Round 6\", \"Round 7\", \"Round 8\", \"Round 9\", \"Round 10\", \"Avg F1 Score\", \"Avg Accuracy\"])\n",
    "    \n",
    "for i in range(1,11):\n",
    "    data_row = []\n",
    "    data_row.append(i)\n",
    "    f1_scores = []\n",
    "    accuracy = []\n",
    "    for j in range(10):\n",
    "        # train_test_split takes the datasets, shuffles the datasets, and splits it into training and testing sets.\n",
    "        X_train, X_test, y_train, y_test = train_test_split(X, y, test_size = 0.2, shuffle = True, stratify = y)\n",
    "        \n",
    "        knn = KNeighborsClassifier(n_neighbors = i)\n",
    "        knn.fit(X_train,y_train)\n",
    "        \n",
    "        predictions = knn.predict(X_test) # This predict function produces yes or no Oscar predictions.\n",
    "        proba_predictions = knn.predict_proba(X_test)[:,1] # This predict_proba function produces the probability of the movies winning an oscar.\n",
    "        \n",
    "        f1_scores.append(f1_score(y_test, predictions, average='weighted'))\n",
    "        data_row.append(round(f1_score(y_test, predictions, average='weighted'),3))\n",
    "        accuracy.append(accuracy_score(y_test,predictions))\n",
    "        \n",
    "    avg_f1 = np.mean(f1_scores)\n",
    "    avg_accuracy = np.mean(accuracy)\n",
    "    data_row.append(round(avg_f1,3))  \n",
    "    data_row.append(round(avg_accuracy,3))    \n",
    "    data.append(data_row)\n",
    "with open(\"knn_data.csv\",\"w+\",newline='') as csv_file:\n",
    "    csvWriter = csv.writer(csv_file,delimiter=',')\n",
    "    csvWriter.writerows(data)"
   ]
  },
  {
   "cell_type": "code",
   "execution_count": 39,
   "metadata": {},
   "outputs": [
    {
     "name": "stdout",
     "output_type": "stream",
     "text": [
      "Predictions\tActual\n",
      "0\t\t1\n",
      "0\t\t0\n",
      "0\t\t0\n",
      "0\t\t0\n",
      "0\t\t0\n",
      "0\t\t0\n",
      "0\t\t0\n",
      "0\t\t0\n",
      "0\t\t0\n",
      "0\t\t0\n",
      "0\t\t0\n",
      "0\t\t1\n",
      "1\t\t0\n",
      "0\t\t0\n",
      "0\t\t0\n",
      "0\t\t0\n",
      "0\t\t0\n",
      "0\t\t0\n",
      "0\t\t0\n",
      "0\t\t1\n",
      "0\t\t0\n",
      "0\t\t1\n",
      "0\t\t0\n",
      "0\t\t0\n",
      "0\t\t0\n"
     ]
    }
   ],
   "source": [
    "# This predict function produces yes or no Oscar predictions.\n",
    "predictions = knn.predict(X_test)\n",
    "pretty_list = \"\\n\".join(\"{}\\t\\t{}\".format(x, y) for x, y in zip(predictions, y_test))\n",
    "print(\"Predictions\\tActual\")\n",
    "print(pretty_list)"
   ]
  },
  {
   "cell_type": "code",
   "execution_count": 40,
   "metadata": {},
   "outputs": [
    {
     "name": "stdout",
     "output_type": "stream",
     "text": [
      "% of 1 \tActual\n",
      "0.00\t1\n",
      "0.00\t0\n",
      "0.33\t0\n",
      "0.00\t0\n",
      "0.00\t0\n",
      "0.00\t0\n",
      "0.00\t0\n",
      "0.00\t0\n",
      "0.00\t0\n",
      "0.33\t0\n",
      "0.00\t0\n",
      "0.00\t1\n",
      "0.67\t0\n",
      "0.33\t0\n",
      "0.00\t0\n",
      "0.33\t0\n",
      "0.33\t0\n",
      "0.00\t0\n",
      "0.00\t0\n",
      "0.33\t1\n",
      "0.00\t0\n",
      "0.00\t1\n",
      "0.00\t0\n",
      "0.00\t0\n",
      "0.00\t0\n"
     ]
    }
   ],
   "source": [
    "# This predict_proba function produces the probability of the movies winning an oscar.\n",
    "proba_predictions = knn.predict_proba(X_test)[:,1]\n",
    "pretty_list = \"\\n\".join(\"{:.2f}\\t{}\".format(x, y) for x, y in zip(proba_predictions, y_test))\n",
    "print(\"% of 1 \\tActual\")\n",
    "print(pretty_list)"
   ]
  },
  {
   "cell_type": "code",
   "execution_count": 41,
   "metadata": {},
   "outputs": [
    {
     "name": "stdout",
     "output_type": "stream",
     "text": [
      "[[20  1]\n",
      " [ 4  0]]\n"
     ]
    },
    {
     "data": {
      "text/plain": [
       "0.8"
      ]
     },
     "execution_count": 41,
     "metadata": {},
     "output_type": "execute_result"
    }
   ],
   "source": [
    "cm=confusion_matrix(y_test, predictions)\n",
    "print(cm)\n",
    "accuracy_score(y_test,predictions)"
   ]
  },
  {
   "cell_type": "code",
   "execution_count": null,
   "metadata": {},
   "outputs": [],
   "source": []
  }
 ],
 "metadata": {
  "kernelspec": {
   "display_name": "Python 3",
   "language": "python",
   "name": "python3"
  },
  "language_info": {
   "codemirror_mode": {
    "name": "ipython",
    "version": 3
   },
   "file_extension": ".py",
   "mimetype": "text/x-python",
   "name": "python",
   "nbconvert_exporter": "python",
   "pygments_lexer": "ipython3",
   "version": "3.6.5"
  }
 },
 "nbformat": 4,
 "nbformat_minor": 2
}
