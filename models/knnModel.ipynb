{
 "cells": [
  {
   "cell_type": "code",
   "execution_count": 1,
   "metadata": {},
   "outputs": [],
   "source": [
    "from sklearn.neighbors import KNeighborsClassifier\n",
    "import pandas as pd"
   ]
  },
  {
   "cell_type": "code",
   "execution_count": 31,
   "metadata": {},
   "outputs": [],
   "source": [
    "# [drama, horror, comedy, cost]\n",
    "#X = [[1,0,0,100], [0,1,0,200], [1,0,0,300], [1,0,0,400],[0,0,1,500]]\n",
    "#y = [0, 0, 1, 1, 1]\n",
    "n = len(dummyData.index)\n",
    "X = []\n",
    "directors = []\n",
    "mpaaRatings = []\n",
    "\n",
    "dummyData = pd.read_csv(\"oscarsDummyData.csv\",encoding = \"ISO-8859-1\")\n",
    "\n",
    "for i in range(0, n):\n",
    "    row = list(dummyData.iloc[i])\n",
    "    director = row[7]\n",
    "    mpaaRating = row[10]\n",
    "    \n",
    "    if not(director in directors):\n",
    "        directors.append(director)\n",
    "    row[7] = directors.index(director)\n",
    "    \n",
    "    if not(mpaaRating in mpaaRatings):\n",
    "        mpaaRatings.append(mpaaRating)\n",
    "    row[10] = mpaaRatings.index(mpaaRating)\n",
    "    \n",
    "    X.append(row[2:-1])"
   ]
  },
  {
   "cell_type": "code",
   "execution_count": 32,
   "metadata": {},
   "outputs": [
    {
     "data": {
      "text/plain": [
       "KNeighborsClassifier(algorithm='auto', leaf_size=30, metric='minkowski',\n",
       "           metric_params=None, n_jobs=1, n_neighbors=3, p=2,\n",
       "           weights='uniform')"
      ]
     },
     "execution_count": 32,
     "metadata": {},
     "output_type": "execute_result"
    }
   ],
   "source": [
    "knn = KNeighborsClassifier(n_neighbors = 3)\n",
    "knn.fit(X,y)"
   ]
  },
  {
   "cell_type": "code",
   "execution_count": 38,
   "metadata": {},
   "outputs": [
    {
     "name": "stdout",
     "output_type": "stream",
     "text": [
      "[0 1 1]\n"
     ]
    }
   ],
   "source": [
    "test_X = [[1,0,0, 100],[0,1,0,400],[1,0,0,275]]\n",
    "print(knn.predict(test_X))"
   ]
  },
  {
   "cell_type": "code",
   "execution_count": 42,
   "metadata": {},
   "outputs": [
    {
     "name": "stdout",
     "output_type": "stream",
     "text": [
      "title                          Chocolat\n",
      "won                               False\n",
      "ceremonyYear                       2000\n",
      "runningTime                         121\n",
      "budget                         25000000\n",
      "revenue                       152500343\n",
      "gross                         127500343\n",
      "directorName            Lasse Hallström\n",
      "DirectorNomination                   20\n",
      "DirectorWins                          7\n",
      "MPAARating                        PG-13\n",
      "rottenTomatoesScore                  62\n",
      "USReleaseMonth                       12\n",
      "USReleaseYear                      2000\n",
      "Google Trend in 000s                 84\n",
      "Prediction Bet                    False\n",
      "Name: 0, dtype: object\n",
      "['Chocolat', False, 2000, 121, 25000000, 152500343, 127500343, 'Lasse Hallström', 20, 7, 'PG-13', 62, '12', '2000', 84, False]\n",
      "124\n"
     ]
    }
   ],
   "source": [
    "dummyData = pd.read_csv(\"oscarsDummyData.csv\",encoding = \"ISO-8859-1\")\n",
    "print(dummyData.iloc[0])\n",
    "print(list(dummyData.iloc[0]))\n",
    "print(len(dummyData.index))"
   ]
  },
  {
   "cell_type": "code",
   "execution_count": null,
   "metadata": {},
   "outputs": [],
   "source": []
  }
 ],
 "metadata": {
  "kernelspec": {
   "display_name": "Python 3",
   "language": "python",
   "name": "python3"
  },
  "language_info": {
   "codemirror_mode": {
    "name": "ipython",
    "version": 3
   },
   "file_extension": ".py",
   "mimetype": "text/x-python",
   "name": "python",
   "nbconvert_exporter": "python",
   "pygments_lexer": "ipython3",
   "version": "3.6.5"
  }
 },
 "nbformat": 4,
 "nbformat_minor": 2
}
